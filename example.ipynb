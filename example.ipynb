{
 "cells": [
  {
   "cell_type": "code",
   "execution_count": null,
   "metadata": {},
   "outputs": [],
   "source": [
    "import sys\n",
    "#!{sys.executable} -m pip install dist/nb_cppmagic-0.2-py2.py3-none-any.whl\n",
    "!{sys.executable} -m pip install git+https://github.com/dragly/cppmagic"
   ]
  },
  {
   "cell_type": "code",
   "execution_count": 2,
   "metadata": {
    "collapsed": false
   },
   "outputs": [
    {
     "name": "stdout",
     "output_type": "stream",
     "text": [
      "Loading extensions from ~/.ipython/extensions is deprecated. We recommend managing extensions like any other Python packages, in site-packages.\n"
     ]
    }
   ],
   "source": [
    "%load_ext cppmagic"
   ]
  },
  {
   "cell_type": "code",
   "execution_count": 3,
   "metadata": {
    "collapsed": false
   },
   "outputs": [
    {
     "name": "stdout",
     "output_type": "stream",
     "text": [
      "b'10\\n'\n"
     ]
    }
   ],
   "source": [
    "%%cpp\n",
    "#include <iostream>\n",
    "using namespace std;\n",
    "\n",
    "class MyClass {\n",
    "public:\n",
    "    int a;\n",
    "    MyClass() {\n",
    "        a = 10;\n",
    "    }\n",
    "};\n",
    "\n",
    "int main() {\n",
    "    MyClass B;\n",
    "    cout << B.a << endl;\n",
    "    return 0;\n",
    "}"
   ]
  },
  {
   "cell_type": "code",
   "execution_count": null,
   "metadata": {
    "collapsed": false
   },
   "outputs": [],
   "source": [
    "%%cpp -llapack -lblas -larmadillo\n",
    "#include <iostream>\n",
    "#include <armadillo>\n",
    "using namespace std;\n",
    "using namespace arma;\n",
    "\n",
    "int main() {\n",
    "    mat A = randu<mat>(5,5);\n",
    "    cout << A << endl;\n",
    "    double determinant = det(A);\n",
    "    cout << determinant << endl;\n",
    "    return 0;\n",
    "}"
   ]
  },
  {
   "cell_type": "code",
   "execution_count": 4,
   "metadata": {
    "collapsed": false
   },
   "outputs": [],
   "source": []
  }
 ],
 "metadata": {
  "kernelspec": {
   "display_name": "Python 3",
   "language": "python",
   "name": "python3"
  },
  "language_info": {
   "codemirror_mode": {
    "name": "ipython",
    "version": 3
   },
   "file_extension": ".py",
   "mimetype": "text/x-python",
   "name": "python",
   "nbconvert_exporter": "python",
   "pygments_lexer": "ipython3",
   "version": "3.7.1"
  }
 },
 "nbformat": 4,
 "nbformat_minor": 2
}
